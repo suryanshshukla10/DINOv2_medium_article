{
 "cells": [
  {
   "cell_type": "markdown",
   "id": "0ee76184",
   "metadata": {},
   "source": [
    "# 1. Download DINOv2 Git repo"
   ]
  },
  {
   "cell_type": "code",
   "execution_count": null,
   "id": "fbfd396e",
   "metadata": {},
   "outputs": [
    {
     "name": "stdout",
     "output_type": "stream",
     "text": [
      "^C\n",
      "d:\\DINOv2_medium_article\\dinov2\n"
     ]
    },
    {
     "name": "stderr",
     "output_type": "stream",
     "text": [
      "Cloning into 'dinov2'...\n"
     ]
    }
   ],
   "source": [
    "# Install latest compatible torch/torchvision\n",
    "!pip install torch==2.4.0 torchvision==0.19.0 --quiet\n",
    "\n",
    "# Clone and install DINOv2 code only (no torch downgrade)\n",
    "!git clone https://github.com/facebookresearch/dinov2.git\n",
    "%cd dinov2\n",
    "!pip install . --no-deps --quiet\n",
    "%cd .."
   ]
  }
 ],
 "metadata": {
  "kernelspec": {
   "display_name": ".venv",
   "language": "python",
   "name": "python3"
  },
  "language_info": {
   "codemirror_mode": {
    "name": "ipython",
    "version": 3
   },
   "file_extension": ".py",
   "mimetype": "text/x-python",
   "name": "python",
   "nbconvert_exporter": "python",
   "pygments_lexer": "ipython3",
   "version": "3.11.7"
  }
 },
 "nbformat": 4,
 "nbformat_minor": 5
}
